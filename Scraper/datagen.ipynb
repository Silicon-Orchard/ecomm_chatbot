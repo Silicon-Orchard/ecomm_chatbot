{
  "cells": [
    {
      "cell_type": "code",
      "execution_count": 43,
      "metadata": {
        "colab": {
          "base_uri": "https://localhost:8080/"
        },
        "id": "phArMwlhKgoV",
        "outputId": "5c1f6db4-f1c2-4693-d4e6-176ff70d4fd2"
      },
      "outputs": [],
      "source": [
        "from selenium import webdriver\n",
        "from selenium.webdriver.common.by import By\n",
        "from random import randint\n",
        "from time import sleep\n",
        "import re\n",
        "import os"
      ]
    },
    {
      "cell_type": "code",
      "execution_count": 11,
      "metadata": {},
      "outputs": [],
      "source": [
        "from Utils.daraz_data import daraz_categories\n",
        "\n",
        "def get_categories(daraz_categories):\n",
        "    for key, value in daraz_categories.items():\n",
        "        for k, v in value.items():\n",
        "            yield (k, v)"
      ]
    },
    {
      "cell_type": "code",
      "execution_count": 12,
      "metadata": {},
      "outputs": [
        {
          "name": "stderr",
          "output_type": "stream",
          "text": [
            "C:\\Users\\akibs\\AppData\\Local\\Temp/ipykernel_2388/816699485.py:4: DeprecationWarning: executable_path has been deprecated, please pass in a Service object\n",
            "  driver = webdriver.Chrome('Utils/chromedriver.exe',chrome_options=chrome_options)\n",
            "C:\\Users\\akibs\\AppData\\Local\\Temp/ipykernel_2388/816699485.py:4: DeprecationWarning: use options instead of chrome_options\n",
            "  driver = webdriver.Chrome('Utils/chromedriver.exe',chrome_options=chrome_options)\n"
          ]
        }
      ],
      "source": [
        "chrome_options = webdriver.ChromeOptions()\n",
        "prefs = {\"profile.managed_default_content_settings.images\": 2}\n",
        "chrome_options.add_experimental_option(\"prefs\", prefs)\n",
        "driver = webdriver.Chrome('Utils/chromedriver.exe',chrome_options=chrome_options)"
      ]
    },
    {
      "cell_type": "code",
      "execution_count": 13,
      "metadata": {},
      "outputs": [],
      "source": [
        "# with open(\"subcat.txt\", \"w+\") as fw:\n",
        "categories_gen = get_categories(daraz_categories)\n",
        "\n",
        "for (subcat, subcaturl) in categories_gen:\n",
        "    driver.get(subcaturl)\n",
        "    sleep(2)\n",
        "    with open('HTML/{}.txt'.format(subcat), 'w+') as fw:\n",
        "        fw.write(driver.page_source)\n",
        "    sleep(randint(2,5))"
      ]
    },
    {
      "cell_type": "code",
      "execution_count": 40,
      "metadata": {},
      "outputs": [],
      "source": [
        "def get_data(text):\n",
        "    data = re.search(\"\\\"listItems\\\"\\:.*\", text)\n",
        "    if data:\n",
        "        return data.group(0)\n",
        "    return \"\""
      ]
    },
    {
      "cell_type": "code",
      "execution_count": 48,
      "metadata": {},
      "outputs": [],
      "source": [
        "# for root, dir, files in os.walk('Data'):\n",
        "#     for file in files:\n",
        "#         with open(os.path.join(root,file), 'r') as fr:\n",
        "#             with open(os.path.join(\"Json\",file), 'w+') as fw:\n",
        "#                 text = fr.read().replace(\"},\\\"mainInfo\\\"\", \",\\\"mainInfo\\\"\")\n",
        "#                 text = text.replace(\"</script>\", \"\")\n",
        "#                 text = \"{\" + text\n",
        "#                 fw.write(text)"
      ]
    },
    {
      "cell_type": "code",
      "execution_count": 45,
      "metadata": {},
      "outputs": [],
      "source": [
        "# for root, dir, files in os.walk('HTML'):\n",
        "#     for file in files:\n",
        "#         with open(os.path.join(root,file), 'r') as fr:\n",
        "#             with open(\"Data/{}.json\".format(file), 'w+') as fw:\n",
        "#                 fw.write(get_data(fr.read()))"
      ]
    },
    {
      "cell_type": "code",
      "execution_count": 46,
      "metadata": {},
      "outputs": [],
      "source": [
        "# for root, dir, files in os.walk('Data'):\n",
        "#     for file in files:\n",
        "#         newname = file.replace(\".txt\", \"\")\n",
        "#         os.rename(os.path.join(root,file), newname)"
      ]
    },
    {
      "cell_type": "code",
      "execution_count": 7,
      "metadata": {
        "colab": {
          "base_uri": "https://localhost:8080/"
        },
        "id": "eoDovRzPHb86",
        "outputId": "f4ee9fb9-dcc6-4ae4-9166-852ee0a5ff8a"
      },
      "outputs": [],
      "source": [
        "# from google.colab import drive\n",
        "# drive.mount(\"/content/gdrive\")"
      ]
    },
    {
      "cell_type": "code",
      "execution_count": 8,
      "metadata": {
        "colab": {
          "base_uri": "https://localhost:8080/"
        },
        "id": "YvA33OlJJT8T",
        "outputId": "fb108b12-2e86-4135-cadb-89fc0a0f4d59"
      },
      "outputs": [],
      "source": [
        "# cd /content/gdrive/My Drive/Machine Learning/Chatbot"
      ]
    },
    {
      "cell_type": "code",
      "execution_count": 10,
      "metadata": {},
      "outputs": [],
      "source": [
        "# from Utils.daraz_data import daraz_categories\n",
        "\n",
        "# def get_categories(daraz_categories):\n",
        "#     for key, value in daraz_categories.items():\n",
        "#         for k, v in value.items():\n",
        "#             yield (k, v)\n",
        "\n",
        "# gen = get_categories(daraz_categories)"
      ]
    },
    {
      "cell_type": "code",
      "execution_count": 11,
      "metadata": {},
      "outputs": [],
      "source": [
        "\n",
        "# driver.get(\"https://www.daraz.com.bd/books-games-music/\")\n",
        "\n",
        "# elements = driver.find_elements(by=By.TAG_NAME, value=\"a\")\n",
        "# elements = [element.get_attribute('href') for element in elements]\n",
        "\n",
        "# with open(\"Utils/products.txt\", \"w+\") as fw:\n",
        "#     for element in elements:\n",
        "#         if element and \"https://www.daraz.com.bd/products/\" in element:\n",
        "#             fw.write(element)\n",
        "#             fw.write(\"\\n\")"
      ]
    }
  ],
  "metadata": {
    "colab": {
      "name": "datagen.ipynb",
      "provenance": []
    },
    "kernelspec": {
      "display_name": "Python 3",
      "name": "python3"
    },
    "language_info": {
      "codemirror_mode": {
        "name": "ipython",
        "version": 3
      },
      "file_extension": ".py",
      "mimetype": "text/x-python",
      "name": "python",
      "nbconvert_exporter": "python",
      "pygments_lexer": "ipython3",
      "version": "3.9.1"
    }
  },
  "nbformat": 4,
  "nbformat_minor": 0
}
