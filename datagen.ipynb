{
  "nbformat": 4,
  "nbformat_minor": 0,
  "metadata": {
    "colab": {
      "name": "datagen.ipynb",
      "provenance": []
    },
    "kernelspec": {
      "name": "python3",
      "display_name": "Python 3"
    },
    "language_info": {
      "name": "python"
    }
  },
  "cells": [
    {
      "cell_type": "code",
      "execution_count": null,
      "metadata": {
        "colab": {
          "base_uri": "https://localhost:8080/"
        },
        "id": "eoDovRzPHb86",
        "outputId": "f4ee9fb9-dcc6-4ae4-9166-852ee0a5ff8a"
      },
      "outputs": [
        {
          "output_type": "stream",
          "name": "stdout",
          "text": [
            "Mounted at /content/gdrive\n"
          ]
        }
      ],
      "source": [
        "from google.colab import drive\n",
        "drive.mount(\"/content/gdrive\")"
      ]
    },
    {
      "cell_type": "code",
      "source": [
        "cd /content/gdrive/My Drive/Machine Learning/Chatbot"
      ],
      "metadata": {
        "colab": {
          "base_uri": "https://localhost:8080/"
        },
        "id": "YvA33OlJJT8T",
        "outputId": "fb108b12-2e86-4135-cadb-89fc0a0f4d59"
      },
      "execution_count": null,
      "outputs": [
        {
          "output_type": "stream",
          "name": "stdout",
          "text": [
            "/content/gdrive/My Drive/Machine Learning/Chatbot\n"
          ]
        }
      ]
    },
    {
      "cell_type": "code",
      "source": [
        "from random import randint\n",
        "dataset = []\n",
        "\n",
        "\n",
        "for i in range(1, 5):\n",
        "    data = {\n",
        "        \"image\": \"\",\n",
        "        \"cost\": 0,\n",
        "        \"stock\": 0\n",
        "    } \n",
        "\n",
        "    data[\"image\"] = \"images/\" + str(i) + \".jpg\"\n",
        "    data[\"cost\"] = randint(10, 200)\n",
        "    data[\"stock\"] = randint(0, 25)\n",
        "\n",
        "    dataset.append(data)\n",
        "\n",
        "\n",
        "print(dataset)"
      ],
      "metadata": {
        "id": "phArMwlhKgoV",
        "colab": {
          "base_uri": "https://localhost:8080/"
        },
        "outputId": "5c1f6db4-f1c2-4693-d4e6-176ff70d4fd2"
      },
      "execution_count": 1,
      "outputs": [
        {
          "output_type": "stream",
          "name": "stdout",
          "text": [
            "[{'image': 'images/1.jpg', 'cost': 55, 'stock': 8}, {'image': 'images/2.jpg', 'cost': 96, 'stock': 21}, {'image': 'images/3.jpg', 'cost': 77, 'stock': 25}, {'image': 'images/4.jpg', 'cost': 147, 'stock': 12}]\n"
          ]
        }
      ]
    }
  ]
}